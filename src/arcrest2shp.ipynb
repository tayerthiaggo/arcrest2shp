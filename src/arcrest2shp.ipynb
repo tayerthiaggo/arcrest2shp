{
 "cells": [
  {
   "cell_type": "markdown",
   "metadata": {},
   "source": [
    "## Import dependencies"
   ]
  },
  {
   "cell_type": "code",
   "execution_count": 1,
   "metadata": {},
   "outputs": [],
   "source": [
    "%load_ext autoreload\n",
    "%autoreload 2\n",
    "\n",
    "from arcrest2shp import arcrest2shp"
   ]
  },
  {
   "cell_type": "markdown",
   "metadata": {},
   "source": [
    "## Extract data"
   ]
  },
  {
   "cell_type": "code",
   "execution_count": null,
   "metadata": {},
   "outputs": [],
   "source": [
    "# Path to the shapefile (.shp) file - Area of interest\n",
    "shp = 'path/to/shapefile.shp' # Replace with the path to your shapefile\n",
    "\n",
    "# Output folder path for saving downloaded data\n",
    "out_path = 'output_folder/'  # Replace with the desired output folder path\n",
    "\n",
    "# Base URL for retrieving data\n",
    "url_base = 'https://example.com/data/'\n",
    "\n",
    "# Coordinate reference system code (EPSG) for the extracted data\n",
    "crs=7844 # Replace with the EPSG code corresponding to your desired CRS\n",
    "\n",
    "# Number of threads for concurrent processing\n",
    "num_threads = 10 # Adjust the value based on your system's capabilities\n",
    "\n",
    "# Call the arcrest2shp function with the provided parameters\n",
    "arcrest2shp (url_base, shp, out_path, num_threads)"
   ]
  },
  {
   "cell_type": "markdown",
   "metadata": {},
   "source": [
    "### Extracting data from DataWa"
   ]
  },
  {
   "cell_type": "code",
   "execution_count": null,
   "metadata": {},
   "outputs": [],
   "source": [
    "# Path to the shapefile (.shp) file - Area of interest\n",
    "shp = r'E:\\canning_river\\SHP\\AOI_GDA2020.shp' # Replace with the path to your shapefile\n",
    "\n",
    "# Output folder path for saving downloaded data\n",
    "out_path = r'E:\\canning_river'  # Replace with the desired output folder path\n",
    "\n",
    "# Base URL for retrieving data\n",
    "url_base = 'https://services.slip.wa.gov.au/public/rest/services'\n",
    "\n",
    "# # Coordinate reference system code (EPSG) for the extracted data\n",
    "# crs=7844 # Replace with the EPSG code corresponding to your desired CRS\n",
    "\n",
    "# Number of threads for concurrent processing\n",
    "num_threads = 10 # Adjust the value based on your system's capabilities\n",
    "\n",
    "# Call the arcrest2shp function with the provided parameters\n",
    "arcrest2shp (url_base, shp, out_path, num_threads)"
   ]
  },
  {
   "cell_type": "code",
   "execution_count": 11,
   "metadata": {},
   "outputs": [
    {
     "name": "stdout",
     "output_type": "stream",
     "text": [
      "Folder created: E:\\canning_river\\test1\\extracted_data\n",
      "Folder created: E:\\canning_river\\test1\\extracted_data\\geojson\n",
      "Folder created: E:\\canning_river\\test1\\extracted_data\\shp\n",
      "[('https://services.slip.wa.gov.au/public/rest/services/SLIP_Public_Services/Geology_and_Soils_Map/MapServer/17', 'E:\\\\canning_river\\\\SHP\\\\AOI_GDA2020.shp', 'E:\\\\canning_river\\\\test1\\\\extracted_data', 'E:\\\\canning_river\\\\test1\\\\extracted_data\\\\shp')]\n",
      "https://services.slip.wa.gov.au/public/rest/services/SLIP_Public_Services/Geology_and_Soils_Map/MapServer/17\n"
     ]
    }
   ],
   "source": [
    "# Path to the shapefile (.shp) file - Area of interest\n",
    "shp = r'E:\\canning_river\\SHP\\AOI_GDA2020.shp' # Replace with the path to your shapefile\n",
    "\n",
    "# Output folder path for saving downloaded data\n",
    "out_path = r'E:\\canning_river\\test1'  # Replace with the desired output folder path\n",
    "\n",
    "# Base URL for retrieving data\n",
    "# url_base = 'https://services.slip.wa.gov.au/public/rest/services/SLIP_Public_Services/Marine_and_Estuaries/MapServer'\n",
    "\n",
    "# url_base = 'https://services.slip.wa.gov.au/public/rest/services/Land_Monitor/Land_Monitor/MapServer/108'\n",
    "\n",
    "url_base = 'https://services.slip.wa.gov.au/public/rest/services/SLIP_Public_Services/Geology_and_Soils_Map/MapServer/17'\n",
    "\n",
    "# # Coordinate reference system code (EPSG) for the extracted data\n",
    "# crs=7844 # Replace with the EPSG code corresponding to your desired CRS\n",
    "\n",
    "# Number of threads for concurrent processing\n",
    "num_threads = 10 # Adjust the value based on your system's capabilities\n",
    "\n",
    "# Call the arcrest2shp function with the provided parameters\n",
    "arcrest2shp (url_base, shp, out_path, num_threads)"
   ]
  },
  {
   "cell_type": "code",
   "execution_count": null,
   "metadata": {},
   "outputs": [],
   "source": [
    "\n",
    "import os\n",
    "import csv\n",
    "\n"
   ]
  },
  {
   "cell_type": "code",
   "execution_count": null,
   "metadata": {},
   "outputs": [],
   "source": [
    "geojson_folder_path = r'E:\\canning_river\\test1\\extracted_data\\geojson'\n",
    "csv_path = r'E:\\canning_river\\test1\\extracted_data\\extracted_data.csv'\n",
    "\n"
   ]
  },
  {
   "cell_type": "code",
   "execution_count": null,
   "metadata": {},
   "outputs": [],
   "source": [
    "csv_filenames"
   ]
  },
  {
   "cell_type": "code",
   "execution_count": null,
   "metadata": {},
   "outputs": [],
   "source": [
    "import subprocess\n",
    "\n",
    "url = 'https://services.slip.wa.gov.au/public/rest/services/Land_Monitor/Land_Monitor/MapServer/108'\n",
    "\n",
    "geojson_out_path = r'E:\\canning_river\\test1\\extracted_data\\geojson\\raster_test.geojson'\n",
    "\n",
    "\n",
    "# Concatenate the variables with spaces\n",
    "command = ' '.join(['esri2geojson',url, geojson_out_path])\n",
    "# Execute the command\n",
    "result = subprocess.run(command, shell=True, capture_output=True, text=True)"
   ]
  },
  {
   "cell_type": "code",
   "execution_count": 29,
   "metadata": {},
   "outputs": [
    {
     "name": "stdout",
     "output_type": "stream",
     "text": [
      "Vector\n"
     ]
    }
   ],
   "source": [
    "import re\n",
    "import requests\n",
    "from bs4 import BeautifulSoup\n",
    "\n",
    "url = 'https://maps.six.nsw.gov.au/arcgis/rest/services/public/NSW_Hydrography/MapServer/1'\n",
    "\n",
    "# url = 'https://services.slip.wa.gov.au/public/rest/services/Land_Monitor/Land_Monitor/MapServer/108'\n",
    "\n",
    "response = requests.get(url)\n",
    "soup = BeautifulSoup(response.text, 'html.parser')\n",
    "\n",
    "\n",
    "# # Define the regular expression pattern to match 'Raster Layer'\n",
    "# pattern_raster = re.compile(r'Raster\\sLayer', re.IGNORECASE)  # 'Raster Layer' with case-insensitivity\n",
    "# # Use soup.find to search for the pattern in the page content\n",
    "# result_raster = soup.find(string=pattern_raster)\n",
    "\n",
    "# Define the regular expression pattern to match 'Raster Layer'\n",
    "pattern_vector = re.compile(r'esriGeometry', re.IGNORECASE)  # 'Raster Layer' with case-insensitivity\n",
    "# Use soup.find to search for the pattern in the page content\n",
    "result_vector = soup.find(string=pattern_vector)\n",
    "\n",
    "\n",
    "# if result_raster:\n",
    "#     print('Raster')\n",
    "\n",
    "# elif result_vector:\n",
    "#     print('Vector')\n",
    "# else:\n",
    "#     print('else')\n",
    "\n",
    "\n",
    "if result_vector:\n",
    "    print('Vector')\n",
    "else:\n",
    "    print('else')"
   ]
  },
  {
   "cell_type": "code",
   "execution_count": 30,
   "metadata": {},
   "outputs": [
    {
     "name": "stdout",
     "output_type": "stream",
     "text": [
      "Vector\n"
     ]
    }
   ],
   "source": [
    "# Find all tags that contain the text \"esriGeometry\"\n",
    "cells = soup.find_all(lambda tag: tag.name == 'b' and 'Geometry Type:' in tag.text)\n",
    "# Check if any cell contains the desired text\n",
    "contains_esriGeometry = any('esriGeometry' in cell.next_sibling.strip() for cell in cells)\n",
    "\n",
    "if contains_esriGeometry:\n",
    "    print('Vector')\n",
    "else:\n",
    "    print('else')"
   ]
  },
  {
   "cell_type": "code",
   "execution_count": 27,
   "metadata": {},
   "outputs": [
    {
     "data": {
      "text/plain": [
       "[]"
      ]
     },
     "execution_count": 27,
     "metadata": {},
     "output_type": "execute_result"
    }
   ],
   "source": [
    "cells"
   ]
  },
  {
   "cell_type": "code",
   "execution_count": 32,
   "metadata": {},
   "outputs": [
    {
     "name": "stdout",
     "output_type": "stream",
     "text": [
      "sim\n"
     ]
    }
   ],
   "source": [
    "# Define the regular expression pattern to match 'Raster Layer'\n",
    "pattern = re.compile(r'Feature\\sLayer', re.IGNORECASE)  # 'Raster Layer' with case-insensitivity\n",
    "# Use soup.find to search for the pattern in the page content\n",
    "result = soup.find(string=pattern)\n",
    "\n",
    "if result:\n",
    "    print('sim')\n",
    "else:\n",
    "    print('no')"
   ]
  },
  {
   "cell_type": "code",
   "execution_count": 31,
   "metadata": {},
   "outputs": [
    {
     "name": "stdout",
     "output_type": "stream",
     "text": [
      "else\n"
     ]
    }
   ],
   "source": [
    "# Find all tags that contain the text \"esriGeometry\"\n",
    "cells = soup.find_all(lambda tag: tag.name == 'b' and 'Type: ' in tag.text)\n",
    "# Check if any cell contains the desired text\n",
    "contains_esriGeometry = any('Raster Layer' in cell.next_sibling.strip() for cell in cells)\n",
    "\n",
    "if contains_esriGeometry:\n",
    "    print('Vector')\n",
    "else:\n",
    "    print('else')"
   ]
  },
  {
   "cell_type": "code",
   "execution_count": 25,
   "metadata": {},
   "outputs": [
    {
     "data": {
      "text/plain": [
       "[]"
      ]
     },
     "execution_count": 25,
     "metadata": {},
     "output_type": "execute_result"
    }
   ],
   "source": [
    "cells"
   ]
  },
  {
   "cell_type": "code",
   "execution_count": null,
   "metadata": {},
   "outputs": [],
   "source": []
  }
 ],
 "metadata": {
  "kernelspec": {
   "display_name": "canning_pj1",
   "language": "python",
   "name": "python3"
  },
  "language_info": {
   "codemirror_mode": {
    "name": "ipython",
    "version": 3
   },
   "file_extension": ".py",
   "mimetype": "text/x-python",
   "name": "python",
   "nbconvert_exporter": "python",
   "pygments_lexer": "ipython3",
   "version": "3.8.16"
  },
  "orig_nbformat": 4
 },
 "nbformat": 4,
 "nbformat_minor": 2
}
