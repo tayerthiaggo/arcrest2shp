{
 "cells": [
  {
   "cell_type": "markdown",
   "metadata": {},
   "source": [
    "## Import dependencies"
   ]
  },
  {
   "cell_type": "code",
   "execution_count": 1,
   "metadata": {},
   "outputs": [],
   "source": [
    "%load_ext autoreload\n",
    "%autoreload 2\n",
    "\n",
    "from arcrest2shp import arcrest2shp"
   ]
  },
  {
   "cell_type": "markdown",
   "metadata": {},
   "source": [
    "## Extract data"
   ]
  },
  {
   "cell_type": "code",
   "execution_count": null,
   "metadata": {},
   "outputs": [],
   "source": [
    "# Path to the shapefile (.shp) file - Area of interest\n",
    "shp = 'path/to/shapefile.shp' # Replace with the path to your shapefile\n",
    "\n",
    "# Output folder path for saving downloaded data\n",
    "out_path = 'output_folder/'  # Replace with the desired output folder path\n",
    "\n",
    "# Base URL for retrieving data\n",
    "url_base = 'https://example.com/data/'\n",
    "\n",
    "# Coordinate reference system code (EPSG) for the extracted data\n",
    "crs=7844 # Replace with the EPSG code corresponding to your desired CRS\n",
    "\n",
    "# Number of threads for concurrent processing\n",
    "num_threads = 10 # Adjust the value based on your system's capabilities\n",
    "\n",
    "# Call the arcrest2shp function with the provided parameters\n",
    "arcrest2shp (url_base, shp, out_path, num_threads)"
   ]
  },
  {
   "cell_type": "markdown",
   "metadata": {},
   "source": [
    "### Extracting data from DataWa"
   ]
  },
  {
   "cell_type": "code",
   "execution_count": 2,
   "metadata": {},
   "outputs": [
    {
     "name": "stdout",
     "output_type": "stream",
     "text": [
      "Folder created: E:\\canning_river\\extracted_data\n",
      "Folder created: E:\\canning_river\\extracted_data\\geojson\n",
      "Folder created: E:\\canning_river\\extracted_data\\shp\n"
     ]
    },
    {
     "name": "stderr",
     "output_type": "stream",
     "text": [
      "c:\\Users\\00101125\\Anaconda3\\envs\\canning_pj1\\lib\\site-packages\\geopandas\\array.py:968: RuntimeWarning: All-NaN slice encountered\n",
      "  np.nanmin(b[:, 0]),  # minx\n",
      "c:\\Users\\00101125\\Anaconda3\\envs\\canning_pj1\\lib\\site-packages\\geopandas\\array.py:969: RuntimeWarning: All-NaN slice encountered\n",
      "  np.nanmin(b[:, 1]),  # miny\n",
      "c:\\Users\\00101125\\Anaconda3\\envs\\canning_pj1\\lib\\site-packages\\geopandas\\array.py:970: RuntimeWarning: All-NaN slice encountered\n",
      "  np.nanmax(b[:, 2]),  # maxx\n",
      "c:\\Users\\00101125\\Anaconda3\\envs\\canning_pj1\\lib\\site-packages\\geopandas\\array.py:971: RuntimeWarning: All-NaN slice encountered\n",
      "  np.nanmax(b[:, 3]),  # maxy\n"
     ]
    },
    {
     "name": "stdout",
     "output_type": "stream",
     "text": [
      "https://services.slip.wa.gov.au/public/rest/services/SLIP_Public_Services/Historical_Cadastre/MapServer/11 An error occurred while executing the run_esri2geojson.\n",
      "https://services.slip.wa.gov.au/public/rest/services/SLIP_Public_Services/Historical_Cadastre/MapServer/2 An error occurred while executing the run_esri2geojson.\n",
      "https://services.slip.wa.gov.au/public/rest/services/SLIP_Public_Services/Historical_Cadastre/MapServer/0 An error occurred while executing the run_esri2geojson.\n",
      "https://services.slip.wa.gov.au/public/rest/services/SLIP_Public_Services/Historical_Cadastre/MapServer/9 An error occurred while executing the run_esri2geojson.\n",
      "https://services.slip.wa.gov.au/public/rest/services/SLIP_Public_Services/Places_and_Addresses/MapServer/3 An error occurred while executing the run_esri2geojson.\n",
      "https://services.slip.wa.gov.au/public/rest/services/SLIP_Public_Services/Historical_Cadastre/MapServer/8 An error occurred while executing the run_esri2geojson.\n",
      "https://services.slip.wa.gov.au/public/rest/services/SLIP_Public_Services/Infrastructure_and_Utilities/MapServer/19 An error occurred while executing the run_esri2geojson.\n",
      "https://services.slip.wa.gov.au/public/rest/services/SLIP_Public_Services/Infrastructure_and_Utilities/MapServer/0 An error occurred while executing the run_esri2geojson.\n"
     ]
    }
   ],
   "source": [
    "# Path to the shapefile (.shp) file - Area of interest\n",
    "shp = r'E:\\canning_river\\SHP\\AOI_GDA2020.shp' # Replace with the path to your shapefile\n",
    "\n",
    "# Output folder path for saving downloaded data\n",
    "out_path = r'E:\\canning_river'  # Replace with the desired output folder path\n",
    "\n",
    "# Base URL for retrieving data\n",
    "url_base = 'https://services.slip.wa.gov.au/public/rest/services'\n",
    "\n",
    "# # Coordinate reference system code (EPSG) for the extracted data\n",
    "# crs=7844 # Replace with the EPSG code corresponding to your desired CRS\n",
    "\n",
    "# Number of threads for concurrent processing\n",
    "num_threads = 10 # Adjust the value based on your system's capabilities\n",
    "\n",
    "# Call the arcrest2shp function with the provided parameters\n",
    "arcrest2shp (url_base, shp, out_path, num_threads)"
   ]
  },
  {
   "cell_type": "code",
   "execution_count": 22,
   "metadata": {},
   "outputs": [
    {
     "name": "stdout",
     "output_type": "stream",
     "text": [
      "Folder created: E:\\canning_river\\test1\\extracted_data\n",
      "Folder created: E:\\canning_river\\test1\\extracted_data\\geojson\n",
      "Folder created: E:\\canning_river\\test1\\extracted_data\\shp\n"
     ]
    }
   ],
   "source": [
    "# Path to the shapefile (.shp) file - Area of interest\n",
    "shp = r'E:\\canning_river\\SHP\\AOI_GDA2020.shp' # Replace with the path to your shapefile\n",
    "\n",
    "# Output folder path for saving downloaded data\n",
    "out_path = r'E:\\canning_river\\test1'  # Replace with the desired output folder path\n",
    "\n",
    "# Base URL for retrieving data\n",
    "url_base = 'https://services.slip.wa.gov.au/public/rest/services/SLIP_Public_Services/Education/MapServer/0'\n",
    "\n",
    "# # Coordinate reference system code (EPSG) for the extracted data\n",
    "# crs=7844 # Replace with the EPSG code corresponding to your desired CRS\n",
    "\n",
    "# Number of threads for concurrent processing\n",
    "num_threads = 10 # Adjust the value based on your system's capabilities\n",
    "\n",
    "# Call the arcrest2shp function with the provided parameters\n",
    "arcrest2shp (url_base, shp, out_path, num_threads)"
   ]
  },
  {
   "cell_type": "code",
   "execution_count": 32,
   "metadata": {},
   "outputs": [
    {
     "name": "stdout",
     "output_type": "stream",
     "text": [
      "1\n",
      "2\n"
     ]
    }
   ],
   "source": [
    "\n",
    "geojson_out_path = r'E:\\canning_river\\extracted_data\\geojson\\_Boundary.geojson'\n",
    "\n",
    "export_path = r'E:\\canning_river\\extracted_data'\n",
    "layer_name = '_Boundary'\n",
    "\n",
    "count = 0\n",
    "while os.path.exists(geojson_out_path):\n",
    "    count += 1\n",
    "    geojson_out_path = os.path.join(\n",
    "        export_path, 'geojson', f'{layer_name}_{str(count)}.geojson'\n",
    "    )\n",
    "    print(count)"
   ]
  },
  {
   "cell_type": "code",
   "execution_count": null,
   "metadata": {},
   "outputs": [],
   "source": []
  }
 ],
 "metadata": {
  "kernelspec": {
   "display_name": "canning_pj1",
   "language": "python",
   "name": "python3"
  },
  "language_info": {
   "codemirror_mode": {
    "name": "ipython",
    "version": 3
   },
   "file_extension": ".py",
   "mimetype": "text/x-python",
   "name": "python",
   "nbconvert_exporter": "python",
   "pygments_lexer": "ipython3",
   "version": "3.8.16"
  },
  "orig_nbformat": 4
 },
 "nbformat": 4,
 "nbformat_minor": 2
}
