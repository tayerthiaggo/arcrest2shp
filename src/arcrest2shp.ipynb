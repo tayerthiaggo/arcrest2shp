{
 "cells": [
  {
   "cell_type": "markdown",
   "metadata": {},
   "source": [
    "## Import dependencies"
   ]
  },
  {
   "cell_type": "code",
   "execution_count": 39,
   "metadata": {},
   "outputs": [
    {
     "name": "stdout",
     "output_type": "stream",
     "text": [
      "The autoreload extension is already loaded. To reload it, use:\n",
      "  %reload_ext autoreload\n"
     ]
    }
   ],
   "source": [
    "%load_ext autoreload\n",
    "%autoreload 2\n",
    "\n",
    "from arcrest2shp import arcrest2shp"
   ]
  },
  {
   "cell_type": "markdown",
   "metadata": {},
   "source": [
    "## Extract data"
   ]
  },
  {
   "cell_type": "code",
   "execution_count": null,
   "metadata": {},
   "outputs": [],
   "source": [
    "# Path to the shapefile (.shp) file - Area of interest\n",
    "shp = 'path/to/shapefile.shp' # Replace with the path to your shapefile\n",
    "\n",
    "# Output folder path for saving downloaded data\n",
    "out_path = 'output_folder/'  # Replace with the desired output folder path\n",
    "\n",
    "# Base URL for retrieving data\n",
    "url_base = 'https://example.com/data/'\n",
    "\n",
    "# Coordinate reference system code (EPSG) for the extracted data\n",
    "crs=7844 # Replace with the EPSG code corresponding to your desired CRS\n",
    "\n",
    "# Number of threads for concurrent processing\n",
    "num_threads = 10 # Adjust the value based on your system's capabilities\n",
    "\n",
    "# Call the arcrest2shp function with the provided parameters\n",
    "arcrest2shp (url_base, shp, out_path, crs, num_threads)"
   ]
  },
  {
   "cell_type": "markdown",
   "metadata": {},
   "source": [
    "### Extracting data from DataWa"
   ]
  },
  {
   "cell_type": "code",
   "execution_count": 43,
   "metadata": {},
   "outputs": [
    {
     "name": "stdout",
     "output_type": "stream",
     "text": [
      "Folder created: E:\\canning_river\\test3\\extracted_data\n",
      "Folder created: E:\\canning_river\\test3\\extracted_data\\geojson\n",
      "Folder created: E:\\canning_river\\test3\\extracted_data\\shp\n"
     ]
    }
   ],
   "source": [
    "# Path to the shapefile (.shp) file - Area of interest\n",
    "shp = r'E:\\canning_river\\SHP\\AOI.shp' # Replace with the path to your shapefile\n",
    "\n",
    "# Output folder path for saving downloaded data\n",
    "out_path = r'E:\\canning_river\\test3'  # Replace with the desired output folder path\n",
    "\n",
    "# Base URL for retrieving data\n",
    "url_base = 'https://services.slip.wa.gov.au/public/rest/services/SLIP_Public_Services/Places_and_Addresses/MapServer/7'\n",
    "\n",
    "# # Coordinate reference system code (EPSG) for the extracted data\n",
    "# crs=7844 # Replace with the EPSG code corresponding to your desired CRS\n",
    "\n",
    "# Number of threads for concurrent processing\n",
    "num_threads = 10 # Adjust the value based on your system's capabilities\n",
    "\n",
    "# Call the arcrest2shp function with the provided parameters\n",
    "arcrest2shp (url_base, shp, out_path, crs, num_threads)"
   ]
  }
 ],
 "metadata": {
  "kernelspec": {
   "display_name": "canning_pj1",
   "language": "python",
   "name": "python3"
  },
  "language_info": {
   "codemirror_mode": {
    "name": "ipython",
    "version": 3
   },
   "file_extension": ".py",
   "mimetype": "text/x-python",
   "name": "python",
   "nbconvert_exporter": "python",
   "pygments_lexer": "ipython3",
   "version": "3.8.16"
  },
  "orig_nbformat": 4
 },
 "nbformat": 4,
 "nbformat_minor": 2
}
