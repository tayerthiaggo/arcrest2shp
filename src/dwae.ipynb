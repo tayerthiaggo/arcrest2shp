{
 "cells": [
  {
   "cell_type": "code",
   "execution_count": null,
   "metadata": {},
   "outputs": [],
   "source": [
    "# %load_ext autoreload\n",
    "# %autoreload 2\n",
    "\n",
    "# import concurrent.futures\n",
    "# from dwae_utils import create_folder, create_csv, process_links, bbox_shp, download_data, clip_geojson_export_shp"
   ]
  },
  {
   "cell_type": "code",
   "execution_count": 3,
   "metadata": {},
   "outputs": [
    {
     "name": "stdout",
     "output_type": "stream",
     "text": [
      "The autoreload extension is already loaded. To reload it, use:\n",
      "  %reload_ext autoreload\n",
      "Folder created: E:\\canning_river\\extracted_data\n",
      "Folder created: E:\\canning_river\\extracted_data\\geojson\n",
      "Folder created: E:\\canning_river\\extracted_data\\shp\n"
     ]
    },
    {
     "name": "stderr",
     "output_type": "stream",
     "text": [
      "c:\\Users\\00101125\\Anaconda3\\envs\\canning_pj1\\lib\\site-packages\\geopandas\\io\\file.py:572: UserWarning: You are attempting to write an empty DataFrame to file. For some drivers, this operation may fail.\n",
      "  _to_file_fiona(df, filename, driver, schema, crs, mode, **kwargs)\n",
      "c:\\Users\\00101125\\Anaconda3\\envs\\canning_pj1\\lib\\site-packages\\geopandas\\io\\file.py:572: UserWarning: You are attempting to write an empty DataFrame to file. For some drivers, this operation may fail.\n",
      "  _to_file_fiona(df, filename, driver, schema, crs, mode, **kwargs)\n",
      "c:\\Users\\00101125\\Anaconda3\\envs\\canning_pj1\\lib\\site-packages\\geopandas\\io\\file.py:572: UserWarning: You are attempting to write an empty DataFrame to file. For some drivers, this operation may fail.\n",
      "  _to_file_fiona(df, filename, driver, schema, crs, mode, **kwargs)\n",
      "c:\\Users\\00101125\\Anaconda3\\envs\\canning_pj1\\lib\\site-packages\\geopandas\\io\\file.py:572: UserWarning: You are attempting to write an empty DataFrame to file. For some drivers, this operation may fail.\n",
      "  _to_file_fiona(df, filename, driver, schema, crs, mode, **kwargs)\n",
      "c:\\Users\\00101125\\Anaconda3\\envs\\canning_pj1\\lib\\site-packages\\geopandas\\io\\file.py:572: UserWarning: You are attempting to write an empty DataFrame to file. For some drivers, this operation may fail.\n",
      "  _to_file_fiona(df, filename, driver, schema, crs, mode, **kwargs)\n",
      "c:\\Users\\00101125\\Anaconda3\\envs\\canning_pj1\\lib\\site-packages\\geopandas\\io\\file.py:572: UserWarning: You are attempting to write an empty DataFrame to file. For some drivers, this operation may fail.\n",
      "  _to_file_fiona(df, filename, driver, schema, crs, mode, **kwargs)\n",
      "c:\\Users\\00101125\\Anaconda3\\envs\\canning_pj1\\lib\\site-packages\\geopandas\\io\\file.py:572: UserWarning: You are attempting to write an empty DataFrame to file. For some drivers, this operation may fail.\n",
      "  _to_file_fiona(df, filename, driver, schema, crs, mode, **kwargs)\n",
      "c:\\Users\\00101125\\Anaconda3\\envs\\canning_pj1\\lib\\site-packages\\geopandas\\io\\file.py:572: UserWarning: You are attempting to write an empty DataFrame to file. For some drivers, this operation may fail.\n",
      "  _to_file_fiona(df, filename, driver, schema, crs, mode, **kwargs)\n",
      "c:\\Users\\00101125\\Anaconda3\\envs\\canning_pj1\\lib\\site-packages\\geopandas\\io\\file.py:572: UserWarning: You are attempting to write an empty DataFrame to file. For some drivers, this operation may fail.\n",
      "  _to_file_fiona(df, filename, driver, schema, crs, mode, **kwargs)\n",
      "c:\\Users\\00101125\\Anaconda3\\envs\\canning_pj1\\lib\\site-packages\\geopandas\\io\\file.py:572: UserWarning: You are attempting to write an empty DataFrame to file. For some drivers, this operation may fail.\n",
      "  _to_file_fiona(df, filename, driver, schema, crs, mode, **kwargs)\n",
      "c:\\Users\\00101125\\Anaconda3\\envs\\canning_pj1\\lib\\site-packages\\geopandas\\io\\file.py:572: UserWarning: You are attempting to write an empty DataFrame to file. For some drivers, this operation may fail.\n",
      "  _to_file_fiona(df, filename, driver, schema, crs, mode, **kwargs)\n",
      "c:\\Users\\00101125\\Anaconda3\\envs\\canning_pj1\\lib\\site-packages\\geopandas\\io\\file.py:572: UserWarning: You are attempting to write an empty DataFrame to file. For some drivers, this operation may fail.\n",
      "  _to_file_fiona(df, filename, driver, schema, crs, mode, **kwargs)\n",
      "c:\\Users\\00101125\\Anaconda3\\envs\\canning_pj1\\lib\\site-packages\\geopandas\\io\\file.py:572: UserWarning: You are attempting to write an empty DataFrame to file. For some drivers, this operation may fail.\n",
      "  _to_file_fiona(df, filename, driver, schema, crs, mode, **kwargs)\n",
      "c:\\Users\\00101125\\Anaconda3\\envs\\canning_pj1\\lib\\site-packages\\geopandas\\io\\file.py:572: UserWarning: You are attempting to write an empty DataFrame to file. For some drivers, this operation may fail.\n",
      "  _to_file_fiona(df, filename, driver, schema, crs, mode, **kwargs)\n",
      "c:\\Users\\00101125\\Anaconda3\\envs\\canning_pj1\\lib\\site-packages\\geopandas\\io\\file.py:572: UserWarning: You are attempting to write an empty DataFrame to file. For some drivers, this operation may fail.\n",
      "  _to_file_fiona(df, filename, driver, schema, crs, mode, **kwargs)\n",
      "c:\\Users\\00101125\\Anaconda3\\envs\\canning_pj1\\lib\\site-packages\\geopandas\\io\\file.py:572: UserWarning: You are attempting to write an empty DataFrame to file. For some drivers, this operation may fail.\n",
      "  _to_file_fiona(df, filename, driver, schema, crs, mode, **kwargs)\n",
      "c:\\Users\\00101125\\Anaconda3\\envs\\canning_pj1\\lib\\site-packages\\geopandas\\io\\file.py:572: UserWarning: You are attempting to write an empty DataFrame to file. For some drivers, this operation may fail.\n",
      "  _to_file_fiona(df, filename, driver, schema, crs, mode, **kwargs)\n",
      "c:\\Users\\00101125\\Anaconda3\\envs\\canning_pj1\\lib\\site-packages\\geopandas\\io\\file.py:572: UserWarning: You are attempting to write an empty DataFrame to file. For some drivers, this operation may fail.\n",
      "  _to_file_fiona(df, filename, driver, schema, crs, mode, **kwargs)\n",
      "c:\\Users\\00101125\\Anaconda3\\envs\\canning_pj1\\lib\\site-packages\\geopandas\\io\\file.py:572: UserWarning: You are attempting to write an empty DataFrame to file. For some drivers, this operation may fail.\n",
      "  _to_file_fiona(df, filename, driver, schema, crs, mode, **kwargs)\n",
      "c:\\Users\\00101125\\Anaconda3\\envs\\canning_pj1\\lib\\site-packages\\geopandas\\io\\file.py:572: UserWarning: You are attempting to write an empty DataFrame to file. For some drivers, this operation may fail.\n",
      "  _to_file_fiona(df, filename, driver, schema, crs, mode, **kwargs)\n",
      "c:\\Users\\00101125\\Anaconda3\\envs\\canning_pj1\\lib\\site-packages\\geopandas\\io\\file.py:572: UserWarning: You are attempting to write an empty DataFrame to file. For some drivers, this operation may fail.\n",
      "  _to_file_fiona(df, filename, driver, schema, crs, mode, **kwargs)\n",
      "c:\\Users\\00101125\\Anaconda3\\envs\\canning_pj1\\lib\\site-packages\\geopandas\\io\\file.py:572: UserWarning: You are attempting to write an empty DataFrame to file. For some drivers, this operation may fail.\n",
      "  _to_file_fiona(df, filename, driver, schema, crs, mode, **kwargs)\n",
      "c:\\Users\\00101125\\Anaconda3\\envs\\canning_pj1\\lib\\site-packages\\geopandas\\io\\file.py:572: UserWarning: You are attempting to write an empty DataFrame to file. For some drivers, this operation may fail.\n",
      "  _to_file_fiona(df, filename, driver, schema, crs, mode, **kwargs)\n",
      "c:\\Users\\00101125\\Anaconda3\\envs\\canning_pj1\\lib\\site-packages\\geopandas\\array.py:968: RuntimeWarning: All-NaN slice encountered\n",
      "  np.nanmin(b[:, 0]),  # minx\n",
      "c:\\Users\\00101125\\Anaconda3\\envs\\canning_pj1\\lib\\site-packages\\geopandas\\array.py:969: RuntimeWarning: All-NaN slice encountered\n",
      "  np.nanmin(b[:, 1]),  # miny\n",
      "c:\\Users\\00101125\\Anaconda3\\envs\\canning_pj1\\lib\\site-packages\\geopandas\\array.py:970: RuntimeWarning: All-NaN slice encountered\n",
      "  np.nanmax(b[:, 2]),  # maxx\n",
      "c:\\Users\\00101125\\Anaconda3\\envs\\canning_pj1\\lib\\site-packages\\geopandas\\array.py:971: RuntimeWarning: All-NaN slice encountered\n",
      "  np.nanmax(b[:, 3]),  # maxy\n",
      "c:\\Users\\00101125\\Anaconda3\\envs\\canning_pj1\\lib\\site-packages\\geopandas\\io\\file.py:572: UserWarning: You are attempting to write an empty DataFrame to file. For some drivers, this operation may fail.\n",
      "  _to_file_fiona(df, filename, driver, schema, crs, mode, **kwargs)\n",
      "c:\\Users\\00101125\\Anaconda3\\envs\\canning_pj1\\lib\\site-packages\\geopandas\\io\\file.py:572: UserWarning: You are attempting to write an empty DataFrame to file. For some drivers, this operation may fail.\n",
      "  _to_file_fiona(df, filename, driver, schema, crs, mode, **kwargs)\n",
      "c:\\Users\\00101125\\Anaconda3\\envs\\canning_pj1\\lib\\site-packages\\geopandas\\io\\file.py:572: UserWarning: You are attempting to write an empty DataFrame to file. For some drivers, this operation may fail.\n",
      "  _to_file_fiona(df, filename, driver, schema, crs, mode, **kwargs)\n",
      "c:\\Users\\00101125\\Anaconda3\\envs\\canning_pj1\\lib\\site-packages\\geopandas\\io\\file.py:572: UserWarning: You are attempting to write an empty DataFrame to file. For some drivers, this operation may fail.\n",
      "  _to_file_fiona(df, filename, driver, schema, crs, mode, **kwargs)\n",
      "c:\\Users\\00101125\\Anaconda3\\envs\\canning_pj1\\lib\\site-packages\\geopandas\\io\\file.py:572: UserWarning: You are attempting to write an empty DataFrame to file. For some drivers, this operation may fail.\n",
      "  _to_file_fiona(df, filename, driver, schema, crs, mode, **kwargs)\n",
      "c:\\Users\\00101125\\Anaconda3\\envs\\canning_pj1\\lib\\site-packages\\geopandas\\io\\file.py:572: UserWarning: You are attempting to write an empty DataFrame to file. For some drivers, this operation may fail.\n",
      "  _to_file_fiona(df, filename, driver, schema, crs, mode, **kwargs)\n",
      "c:\\Users\\00101125\\Anaconda3\\envs\\canning_pj1\\lib\\site-packages\\geopandas\\io\\file.py:572: UserWarning: You are attempting to write an empty DataFrame to file. For some drivers, this operation may fail.\n",
      "  _to_file_fiona(df, filename, driver, schema, crs, mode, **kwargs)\n",
      "c:\\Users\\00101125\\Anaconda3\\envs\\canning_pj1\\lib\\site-packages\\geopandas\\io\\file.py:572: UserWarning: You are attempting to write an empty DataFrame to file. For some drivers, this operation may fail.\n",
      "  _to_file_fiona(df, filename, driver, schema, crs, mode, **kwargs)\n",
      "c:\\Users\\00101125\\Anaconda3\\envs\\canning_pj1\\lib\\site-packages\\geopandas\\io\\file.py:572: UserWarning: You are attempting to write an empty DataFrame to file. For some drivers, this operation may fail.\n",
      "  _to_file_fiona(df, filename, driver, schema, crs, mode, **kwargs)\n",
      "c:\\Users\\00101125\\Anaconda3\\envs\\canning_pj1\\lib\\site-packages\\geopandas\\io\\file.py:572: UserWarning: You are attempting to write an empty DataFrame to file. For some drivers, this operation may fail.\n",
      "  _to_file_fiona(df, filename, driver, schema, crs, mode, **kwargs)\n",
      "c:\\Users\\00101125\\Anaconda3\\envs\\canning_pj1\\lib\\site-packages\\geopandas\\io\\file.py:572: UserWarning: You are attempting to write an empty DataFrame to file. For some drivers, this operation may fail.\n",
      "  _to_file_fiona(df, filename, driver, schema, crs, mode, **kwargs)\n",
      "c:\\Users\\00101125\\Anaconda3\\envs\\canning_pj1\\lib\\site-packages\\geopandas\\io\\file.py:572: UserWarning: You are attempting to write an empty DataFrame to file. For some drivers, this operation may fail.\n",
      "  _to_file_fiona(df, filename, driver, schema, crs, mode, **kwargs)\n",
      "c:\\Users\\00101125\\Anaconda3\\envs\\canning_pj1\\lib\\site-packages\\geopandas\\io\\file.py:572: UserWarning: You are attempting to write an empty DataFrame to file. For some drivers, this operation may fail.\n",
      "  _to_file_fiona(df, filename, driver, schema, crs, mode, **kwargs)\n",
      "c:\\Users\\00101125\\Anaconda3\\envs\\canning_pj1\\lib\\site-packages\\geopandas\\io\\file.py:572: UserWarning: You are attempting to write an empty DataFrame to file. For some drivers, this operation may fail.\n",
      "  _to_file_fiona(df, filename, driver, schema, crs, mode, **kwargs)\n",
      "c:\\Users\\00101125\\Anaconda3\\envs\\canning_pj1\\lib\\site-packages\\geopandas\\io\\file.py:572: UserWarning: You are attempting to write an empty DataFrame to file. For some drivers, this operation may fail.\n",
      "  _to_file_fiona(df, filename, driver, schema, crs, mode, **kwargs)\n",
      "c:\\Users\\00101125\\Anaconda3\\envs\\canning_pj1\\lib\\site-packages\\geopandas\\io\\file.py:572: UserWarning: You are attempting to write an empty DataFrame to file. For some drivers, this operation may fail.\n",
      "  _to_file_fiona(df, filename, driver, schema, crs, mode, **kwargs)\n",
      "c:\\Users\\00101125\\Anaconda3\\envs\\canning_pj1\\lib\\site-packages\\geopandas\\io\\file.py:572: UserWarning: You are attempting to write an empty DataFrame to file. For some drivers, this operation may fail.\n",
      "  _to_file_fiona(df, filename, driver, schema, crs, mode, **kwargs)\n",
      "c:\\Users\\00101125\\Anaconda3\\envs\\canning_pj1\\lib\\site-packages\\geopandas\\io\\file.py:572: UserWarning: You are attempting to write an empty DataFrame to file. For some drivers, this operation may fail.\n",
      "  _to_file_fiona(df, filename, driver, schema, crs, mode, **kwargs)\n",
      "c:\\Users\\00101125\\Anaconda3\\envs\\canning_pj1\\lib\\site-packages\\geopandas\\io\\file.py:572: UserWarning: You are attempting to write an empty DataFrame to file. For some drivers, this operation may fail.\n",
      "  _to_file_fiona(df, filename, driver, schema, crs, mode, **kwargs)\n"
     ]
    },
    {
     "name": "stdout",
     "output_type": "stream",
     "text": [
      "https://services.slip.wa.gov.au/public/rest/services/SLIP_Public_Services/Infrastructure_and_Utilities/MapServer/26 An error occurred while executing the run_esri2geojson.\n"
     ]
    },
    {
     "name": "stderr",
     "output_type": "stream",
     "text": [
      "c:\\Users\\00101125\\Anaconda3\\envs\\canning_pj1\\lib\\site-packages\\geopandas\\io\\file.py:572: UserWarning: You are attempting to write an empty DataFrame to file. For some drivers, this operation may fail.\n",
      "  _to_file_fiona(df, filename, driver, schema, crs, mode, **kwargs)\n"
     ]
    },
    {
     "name": "stdout",
     "output_type": "stream",
     "text": [
      "https://services.slip.wa.gov.au/public/rest/services/SLIP_Public_Services/Infrastructure_and_Utilities/MapServer/35 An error occurred while executing the run_esri2geojson.\n"
     ]
    },
    {
     "name": "stderr",
     "output_type": "stream",
     "text": [
      "c:\\Users\\00101125\\Anaconda3\\envs\\canning_pj1\\lib\\site-packages\\geopandas\\io\\file.py:572: UserWarning: You are attempting to write an empty DataFrame to file. For some drivers, this operation may fail.\n",
      "  _to_file_fiona(df, filename, driver, schema, crs, mode, **kwargs)\n"
     ]
    },
    {
     "name": "stdout",
     "output_type": "stream",
     "text": [
      "https://services.slip.wa.gov.au/public/rest/services/SLIP_Public_Services/Infrastructure_and_Utilities/MapServer/28 An error occurred while executing the run_esri2geojson.\n"
     ]
    },
    {
     "name": "stderr",
     "output_type": "stream",
     "text": [
      "c:\\Users\\00101125\\Anaconda3\\envs\\canning_pj1\\lib\\site-packages\\geopandas\\io\\file.py:572: UserWarning: You are attempting to write an empty DataFrame to file. For some drivers, this operation may fail.\n",
      "  _to_file_fiona(df, filename, driver, schema, crs, mode, **kwargs)\n",
      "c:\\Users\\00101125\\Anaconda3\\envs\\canning_pj1\\lib\\site-packages\\geopandas\\io\\file.py:572: UserWarning: You are attempting to write an empty DataFrame to file. For some drivers, this operation may fail.\n",
      "  _to_file_fiona(df, filename, driver, schema, crs, mode, **kwargs)\n"
     ]
    },
    {
     "name": "stdout",
     "output_type": "stream",
     "text": [
      "https://services.slip.wa.gov.au/public/rest/services/SLIP_Public_Services/Infrastructure_and_Utilities/MapServer/52 An error occurred while executing the run_esri2geojson.\n"
     ]
    },
    {
     "name": "stderr",
     "output_type": "stream",
     "text": [
      "c:\\Users\\00101125\\Anaconda3\\envs\\canning_pj1\\lib\\site-packages\\geopandas\\io\\file.py:572: UserWarning: You are attempting to write an empty DataFrame to file. For some drivers, this operation may fail.\n",
      "  _to_file_fiona(df, filename, driver, schema, crs, mode, **kwargs)\n"
     ]
    },
    {
     "name": "stdout",
     "output_type": "stream",
     "text": [
      "https://services.slip.wa.gov.au/public/rest/services/SLIP_Public_Services/Infrastructure_and_Utilities/MapServer/6 An error occurred while executing the run_esri2geojson.\n"
     ]
    },
    {
     "name": "stderr",
     "output_type": "stream",
     "text": [
      "c:\\Users\\00101125\\Anaconda3\\envs\\canning_pj1\\lib\\site-packages\\geopandas\\io\\file.py:572: UserWarning: You are attempting to write an empty DataFrame to file. For some drivers, this operation may fail.\n",
      "  _to_file_fiona(df, filename, driver, schema, crs, mode, **kwargs)\n"
     ]
    },
    {
     "name": "stdout",
     "output_type": "stream",
     "text": [
      "https://services.slip.wa.gov.au/public/rest/services/SLIP_Public_Services/Infrastructure_and_Utilities/MapServer/54 An error occurred while executing the run_esri2geojson.\n",
      "https://services.slip.wa.gov.au/public/rest/services/SLIP_Public_Services/Infrastructure_and_Utilities/MapServer/14 An error occurred while executing the run_esri2geojson.\n",
      "https://services.slip.wa.gov.au/public/rest/services/SLIP_Public_Services/Infrastructure_and_Utilities/MapServer/17 An error occurred while executing the run_esri2geojson.\n",
      "https://services.slip.wa.gov.au/public/rest/services/SLIP_Public_Services/Infrastructure_and_Utilities/MapServer/46 An error occurred while executing the run_esri2geojson.\n"
     ]
    },
    {
     "name": "stderr",
     "output_type": "stream",
     "text": [
      "c:\\Users\\00101125\\Anaconda3\\envs\\canning_pj1\\lib\\site-packages\\geopandas\\io\\file.py:572: UserWarning: You are attempting to write an empty DataFrame to file. For some drivers, this operation may fail.\n",
      "  _to_file_fiona(df, filename, driver, schema, crs, mode, **kwargs)\n",
      "c:\\Users\\00101125\\Anaconda3\\envs\\canning_pj1\\lib\\site-packages\\geopandas\\io\\file.py:572: UserWarning: You are attempting to write an empty DataFrame to file. For some drivers, this operation may fail.\n",
      "  _to_file_fiona(df, filename, driver, schema, crs, mode, **kwargs)\n"
     ]
    },
    {
     "name": "stdout",
     "output_type": "stream",
     "text": [
      "https://services.slip.wa.gov.au/public/rest/services/SLIP_Public_Services/Infrastructure_and_Utilities/MapServer/19 An error occurred while executing the run_esri2geojson.\n"
     ]
    }
   ],
   "source": [
    "%load_ext autoreload\n",
    "%autoreload 2\n",
    "\n",
    "from dwea import dwae\n",
    "\n",
    "# Path to the shapefile (.shp) file\n",
    "\n",
    "# shp = r'E:\\Scripts\\SHP\\AOI_sample.shp'\n",
    "shp = r'E:\\canning_river\\SHP\\AOI.shp'\n",
    "out_path = r'E:\\canning_river'\n",
    "url_base = 'https://services.slip.wa.gov.au/public/rest/services'\n",
    "\n",
    "\n",
    "# url_base = 'https://services.slip.wa.gov.au/public/rest/services/SLIP_Public_Services/Education/MapServer'\n",
    "\n",
    "crs=7844\n",
    "num_threads = 10\n",
    "\n",
    "\n",
    "dwae (url_base, shp, out_path, crs, num_threads)"
   ]
  },
  {
   "cell_type": "code",
   "execution_count": null,
   "metadata": {},
   "outputs": [],
   "source": []
  }
 ],
 "metadata": {
  "kernelspec": {
   "display_name": "canning_pj1",
   "language": "python",
   "name": "python3"
  },
  "language_info": {
   "codemirror_mode": {
    "name": "ipython",
    "version": 3
   },
   "file_extension": ".py",
   "mimetype": "text/x-python",
   "name": "python",
   "nbconvert_exporter": "python",
   "pygments_lexer": "ipython3",
   "version": "3.8.16"
  },
  "orig_nbformat": 4
 },
 "nbformat": 4,
 "nbformat_minor": 2
}
