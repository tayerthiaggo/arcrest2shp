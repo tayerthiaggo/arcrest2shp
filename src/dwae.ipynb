{
 "cells": [
  {
   "cell_type": "code",
   "execution_count": null,
   "metadata": {},
   "outputs": [],
   "source": [
    "\n",
    "#input files\n",
    "\n",
    "# Path to the shapefile (.shp) file\n",
    "shp = r'E:\\Scripts\\SHP\\AOI_sample.shp'\n",
    "out_path = r'E:\\Scripts'\n",
    "url_base = 'https://services.slip.wa.gov.au/public/rest/services'\n",
    "\n",
    "# url = 'https://services.slip.wa.gov.au/public/rest/services/SLIP_Public_Services/Boundaries/MapServer'\n",
    "\n",
    "\n",
    "## transfer files to python file\n",
    "# import utils\n",
    "\n",
    "\n",
    "\n",
    "#create folders to export\n",
    "\n",
    "##main folder\n",
    "export_path = create_folder (out_path)\n",
    "##geojson\n",
    "geojson_out_path = create_folder (export_path, 'geojson')\n",
    "##shp\n",
    "shp_out_path = create_folder (export_path, 'shp')\n",
    "\n",
    "\n",
    "#retrieve all links\n",
    "cache = {}  # Dictionary to cache retrieved links\n",
    "visited = set()  # Set to track visited URLs\n",
    "\n",
    "all_links = process_links (url_base, cache, visited)\n",
    "\n",
    "filtered_data = [value for value in all_links if 'FS/MapServer' not in value]\n",
    "\n",
    "\n",
    "#retrieve bbox\n",
    "bbox, crs = bbox_shp (shp, crs)\n",
    "\n",
    "#download data\n",
    "\n",
    "for url in filtered_data:\n",
    "\n",
    "    geojson_out_path = download_data (url, shp, out_path)\n",
    "    clip_geojson_export_shp (shp, crs, geojson_out_path, shp_out_path)\n",
    "\n",
    "\n",
    "\n",
    "\n",
    "\n"
   ]
  }
 ],
 "metadata": {
  "language_info": {
   "name": "python"
  },
  "orig_nbformat": 4
 },
 "nbformat": 4,
 "nbformat_minor": 2
}
